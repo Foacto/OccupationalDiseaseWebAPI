{
 "cells": [
  {
   "cell_type": "code",
   "execution_count": 2,
   "id": "8123b356",
   "metadata": {},
   "outputs": [],
   "source": [
    "import pandas as pd\n",
    "import numpy as np\n",
    "import matplotlib.pyplot as plt\n",
    "from tqdm import tqdm\n",
    "\n",
    "from collections import Counter\n",
    "\n",
    "from sklearn.model_selection import train_test_split\n",
    "from sklearn.metrics import f1_score, precision_score, recall_score, classification_report\n",
    "from sklearn import metrics\n",
    "\n",
    "import stellargraph as sg\n",
    "from stellargraph import StellarGraph\n",
    "from stellargraph.mapper import PaddedGraphGenerator\n",
    "from stellargraph.layer import DeepGraphCNN\n",
    "\n",
    "from tensorflow.keras import Model\n",
    "from tensorflow.keras.optimizers import Adam\n",
    "from tensorflow.keras.layers import Dense, Conv1D, MaxPool1D, Dropout, Flatten\n",
    "from tensorflow.keras.losses import binary_crossentropy\n",
    "from tensorflow.keras.callbacks import EarlyStopping\n",
    "\n",
    "from imblearn.under_sampling import CondensedNearestNeighbour, NearMiss, RandomUnderSampler\n",
    "from imblearn.over_sampling import SMOTE, RandomOverSampler\n",
    "from keras.models import load_model"
   ]
  },
  {
   "cell_type": "code",
   "execution_count": 11,
   "id": "33c3cc9d",
   "metadata": {},
   "outputs": [],
   "source": [
    "model = load_model('model_20231007_ver02_0.7')"
   ]
  },
  {
   "cell_type": "code",
   "execution_count": 4,
   "id": "51238e26",
   "metadata": {},
   "outputs": [],
   "source": [
    "MID_LIST = []\n",
    "\n",
    "def normalize(X):\n",
    "    for column in X.columns:\n",
    "        mid = (X[column].max() + X[column].min()) / 2\n",
    "        X[column] = (X[column] - mid)  / (X[column].max() - mid)\n",
    "        MID_LIST.append(mid)\n",
    "\n",
    "def create_graph_list(X):\n",
    "    \n",
    "    graph = []\n",
    "    \n",
    "    columns = X.columns.tolist()\n",
    "    \n",
    "    # ,['cviec','pxuong']\n",
    "    relation_ship = [['cviec1','tgian1'],['cviec2','tgian2'],['tuoinghe','A9a','A9b','nampx'],\n",
    "                      ['hutthuoc','slthuoc'],['tiensuhh','benhhh'],['ho','tdho','tsho'],\n",
    "                      ['khacdom','loaidom','tdkhacdo'],['khotho','mdkhotho','tdkhotho'],\n",
    "                      ['daunguc','vitridau','daulan','tcdau','tgdau','ytodau'],\n",
    "                      ['sutcan','socansut','tgsut'],['fvclt','fev1lt']]\n",
    "    \n",
    "    for tmp_i in range(len(relation_ship)):\n",
    "        for tmp_j in range(len(relation_ship[tmp_i])):\n",
    "            relation_ship[tmp_i][tmp_j] = columns.index(relation_ship[tmp_i][tmp_j])\n",
    "    \n",
    "    for i in tqdm(range(X.shape[0])):\n",
    "        source = []\n",
    "        target = []\n",
    "        value = []\n",
    "        indexing = []\n",
    "        \n",
    "        for j in range (0, X.shape[1]):\n",
    "            if not np.isnan(X.iloc[i][j]):\n",
    "                source.append(0)\n",
    "                target.append(j)\n",
    "                value.append(X.iloc[i][j])\n",
    "                indexing.append(j)   \n",
    "                \n",
    "        for j in range(len(relation_ship)):\n",
    "            flg = True\n",
    "            for xx in relation_ship[j]:\n",
    "                if np.isnan(X.iloc[i][xx]):\n",
    "                    flg = False\n",
    "                    break\n",
    "            if flg:\n",
    "                for xx in relation_ship[j]:\n",
    "                    source.append(relation_ship[j][0])\n",
    "                    target.append(xx) \n",
    "                \n",
    "        sg_tmp = pd.DataFrame(\n",
    "            {\"source\": source, \"target\": target}\n",
    "        )\n",
    "        sg_tmp_data = pd.DataFrame(\n",
    "            {\"value\": value}, \n",
    "             index = indexing\n",
    "        )\n",
    "        \n",
    "        sg = StellarGraph(sg_tmp_data, sg_tmp)\n",
    "        graph.append(sg)\n",
    "        \n",
    "    return graph"
   ]
  },
  {
   "cell_type": "code",
   "execution_count": 5,
   "id": "306553ee",
   "metadata": {},
   "outputs": [],
   "source": [
    "df = pd.read_excel(\"Main_data_fixed_ver08.xlsx\");"
   ]
  },
  {
   "cell_type": "code",
   "execution_count": 7,
   "id": "504f8e96",
   "metadata": {
    "scrolled": true
   },
   "outputs": [
    {
     "name": "stderr",
     "output_type": "stream",
     "text": [
      "100%|██████████████████████████████████████████████████████████████████████████████| 8030/8030 [12:38<00:00, 10.58it/s]\n"
     ]
    },
    {
     "name": "stdout",
     "output_type": "stream",
     "text": [
      "8030/8030 [==============================] - 58s 7ms/step\n",
      "pre : actual\n",
      "0   :   0\n",
      "0   :   0\n",
      "0   :   0\n",
      "0   :   0\n",
      "0   :   0\n",
      "0   :   0\n",
      "0   :   0\n",
      "0   :   0\n",
      "0   :   0\n",
      "0   :   0\n",
      "0   :   0\n",
      "0   :   0\n",
      "0   :   0\n",
      "0   :   0\n",
      "0   :   0\n",
      "0   :   0\n",
      "0   :   0\n",
      "0   :   0\n",
      "0   :   0\n",
      "0   :   0\n",
      "0   :   0\n",
      "0   :   0\n",
      "0   :   0\n",
      "0   :   0\n",
      "0   :   0\n",
      "acc: 0.9865504358655044\n",
      "7922\n",
      "Thống kê bộ data predict:\n",
      "Counter({0: 7805, 1: 225})\n",
      "Thống kê bộ data actual:\n",
      "Counter({0: 7819, 1: 211})\n",
      "f1_score: 0.7522935779816514\n",
      "precision_score: 0.7772511848341233\n",
      "recall_score: 0.7288888888888889\n",
      "Confusion Matrix:\n"
     ]
    },
    {
     "data": {
      "image/png": "[encoded data removed]",
      "text/plain": [
       "<Figure size 640x480 with 2 Axes>"
      ]
     },
     "metadata": {},
     "output_type": "display_data"
    }
   ],
   "source": [
    "# Test model data real\n",
    "df_pred_test_ac = df.iloc[:].reset_index(drop=True)\n",
    "\n",
    "# df_pred_test_ac = df\n",
    "\n",
    "X_pre_ac = df_pred_test_ac.iloc[:,:-1]\n",
    "normalize(X_pre_ac)\n",
    "Y_pre_ac = df_pred_test_ac.iloc[:,-1]\n",
    "\n",
    "graph_X_ac =  create_graph_list(X_pre_ac)\n",
    "\n",
    "pre_generator_ac = PaddedGraphGenerator(graphs=graph_X_ac)\n",
    "\n",
    "t_gen = pre_generator_ac.flow(\n",
    "    Y_pre_ac.index,\n",
    "    symmetric_normalization=False,\n",
    ") \n",
    "pre = [round(i[0]) for i in model.predict(t_gen)]\n",
    "actual = [i for i in Y_pre_ac.values]\n",
    "\n",
    "counter = 0\n",
    "\n",
    "print('pre : actual')\n",
    "for i in range(len(pre)):\n",
    "    if(counter < 25):\n",
    "        print(f'{pre[i]}   :   {actual[i]}')\n",
    "    if pre[i] == actual[i]:\n",
    "        counter += 1\n",
    "\n",
    "print(f'acc: {counter/len(pre)}')\n",
    "print(counter)\n",
    "\n",
    "from collections import Counter\n",
    "\n",
    "print(\"Thống kê bộ data predict:\")\n",
    "print(Counter(pre))\n",
    "print(\"Thống kê bộ data actual:\")\n",
    "print(Counter(actual))\n",
    "\n",
    "print(f'f1_score: {f1_score(pre, actual)}')\n",
    "print(f'precision_score: {precision_score(pre, actual)}')\n",
    "print(f'recall_score: {recall_score(pre, actual)}')\n",
    "\n",
    "print(\"Confusion Matrix:\")\n",
    "confusion_matrix = metrics.confusion_matrix(actual, pre)\n",
    "cm_display = metrics.ConfusionMatrixDisplay(confusion_matrix = confusion_matrix, display_labels = [False, True])\n",
    "\n",
    "cm_display.plot()\n",
    "plt.show()"
   ]
  },
  {
   "cell_type": "code",
   "execution_count": 8,
   "id": "d4c1149a",
   "metadata": {},
   "outputs": [
    {
     "name": "stdout",
     "output_type": "stream",
     "text": [
      "8030/8030 [==============================] - 60s 8ms/step\n"
     ]
    },
    {
     "data": {
      "image/png": "[encoded data removed]",
      "text/plain": [
       "<Figure size 640x480 with 1 Axes>"
      ]
     },
     "metadata": {},
     "output_type": "display_data"
    }
   ],
   "source": [
    "from sklearn.metrics import RocCurveDisplay, roc_curve, auc\n",
    "from sklearn.preprocessing import LabelBinarizer\n",
    "\n",
    "y_score = [i[0] for i in model.predict(t_gen)]\n",
    "\n",
    "# Compute ROC curve and ROC area for each class\n",
    "fpr = dict()\n",
    "tpr = dict()\n",
    "roc_auc = dict()\n",
    "for i in range(2):\n",
    "    fpr[i], tpr[i], _ = roc_curve(actual[:], y_score[:])\n",
    "    roc_auc[i] = auc(fpr[i], tpr[i])\n",
    "    \n",
    "# Compute micro-average ROC curve and ROC area\n",
    "fpr[\"micro\"], tpr[\"micro\"], _ = roc_curve(actual, y_score)\n",
    "roc_auc[\"micro\"] = auc(fpr[\"micro\"], tpr[\"micro\"])\n",
    "\n",
    "plt.figure()\n",
    "lw = 1\n",
    "plt.plot(\n",
    "    fpr[1],\n",
    "    tpr[1],\n",
    "    color=\"darkorange\",\n",
    "    lw=lw,\n",
    "    label=\"Mean ROC (area = %0.2f)\" % roc_auc[1],\n",
    ")\n",
    "plt.plot([0, 1], [0, 1], color=\"navy\", lw=lw, linestyle=\"--\")\n",
    "plt.xlim([-0.05, 1.05])\n",
    "plt.ylim([-0.05, 1.05])\n",
    "plt.xlabel(\"False Positive Rate\")\n",
    "plt.ylabel(\"True Positive Rate\")\n",
    "plt.title(\"ROC curve\")\n",
    "plt.legend(loc=\"lower right\")\n",
    "plt.show()"
   ]
  },
  {
   "cell_type": "code",
   "execution_count": 13,
   "id": "08e1645d",
   "metadata": {},
   "outputs": [
    {
     "name": "stdout",
     "output_type": "stream",
     "text": [
      "              precision    recall  f1-score   support\n",
      "\n",
      "          No     0.9922    0.9940    0.9931      7805\n",
      "         Yes     0.7773    0.7289    0.7523       225\n",
      "\n",
      "    accuracy                         0.9866      8030\n",
      "   macro avg     0.8847    0.8614    0.8727      8030\n",
      "weighted avg     0.9862    0.9866    0.9863      8030\n",
      "\n"
     ]
    }
   ],
   "source": [
    "print(classification_report(pre, actual, target_names=['No','Yes'], digits=4))"
   ]
  },
  {
   "cell_type": "code",
   "execution_count": 11,
   "id": "5914860c",
   "metadata": {},
   "outputs": [
    {
     "name": "stdout",
     "output_type": "stream",
     "text": [
      "0.9621519824416039\n"
     ]
    }
   ],
   "source": [
    "from sklearn.metrics import auc\n",
    "\n",
    "print(auc(fpr[1], tpr[1]))"
   ]
  },
  {
   "cell_type": "code",
   "execution_count": 12,
   "id": "ae232e26",
   "metadata": {},
   "outputs": [
    {
     "name": "stderr",
     "output_type": "stream",
     "text": [
      "100%|██████████████████████████████████████████████████████████████████████████████| 8030/8030 [13:21<00:00, 10.01it/s]\n"
     ]
    },
    {
     "name": "stdout",
     "output_type": "stream",
     "text": [
      "8030/8030 [==============================] - 58s 7ms/step\n",
      "pre : actual\n",
      "0   :   0\n",
      "0   :   0\n",
      "0   :   0\n",
      "0   :   0\n",
      "0   :   0\n",
      "0   :   0\n",
      "0   :   0\n",
      "0   :   0\n",
      "0   :   0\n",
      "0   :   0\n",
      "0   :   0\n",
      "0   :   0\n",
      "0   :   0\n",
      "0   :   0\n",
      "0   :   0\n",
      "0   :   0\n",
      "0   :   0\n",
      "0   :   0\n",
      "0   :   0\n",
      "0   :   0\n",
      "0   :   0\n",
      "0   :   0\n",
      "0   :   0\n",
      "0   :   0\n",
      "0   :   0\n",
      "acc: 0.9865504358655044\n",
      "7922\n",
      "Thống kê bộ data predict:\n",
      "Counter({0: 7805, 1: 225})\n",
      "Thống kê bộ data actual:\n",
      "Counter({0: 7819, 1: 211})\n",
      "f1_score: 0.7522935779816514\n",
      "precision_score: 0.7772511848341233\n",
      "recall_score: 0.7288888888888889\n",
      "Confusion Matrix:\n"
     ]
    },
    {
     "data": {
      "image/png": "[encoded data removed]",
      "text/plain": [
       "<Figure size 640x480 with 2 Axes>"
      ]
     },
     "metadata": {},
     "output_type": "display_data"
    }
   ],
   "source": [
    "# model = load_model('model_20230921_ver02_0.99')\n",
    "\n",
    "# Test model data real\n",
    "df_pred_test_ac = df.iloc[:].reset_index(drop=True)\n",
    "\n",
    "# df_pred_test_ac = df\n",
    "\n",
    "X_pre_ac = df_pred_test_ac.iloc[:,:-1]\n",
    "normalize(X_pre_ac)\n",
    "Y_pre_ac = df_pred_test_ac.iloc[:,-1]\n",
    "\n",
    "graph_X_ac =  create_graph_list(X_pre_ac)\n",
    "\n",
    "pre_generator_ac = PaddedGraphGenerator(graphs=graph_X_ac)\n",
    "\n",
    "t_gen = pre_generator_ac.flow(\n",
    "    Y_pre_ac.index,\n",
    "    symmetric_normalization=False,\n",
    ") \n",
    "pre = [round(i[0]) for i in model.predict(t_gen)]\n",
    "actual = [i for i in Y_pre_ac.values]\n",
    "\n",
    "counter = 0\n",
    "\n",
    "print('pre : actual')\n",
    "for i in range(len(pre)):\n",
    "    if(counter < 25):\n",
    "        print(f'{pre[i]}   :   {actual[i]}')\n",
    "    if pre[i] == actual[i]:\n",
    "        counter += 1\n",
    "\n",
    "print(f'acc: {counter/len(pre)}')\n",
    "print(counter)\n",
    "\n",
    "from collections import Counter\n",
    "\n",
    "print(\"Thống kê bộ data predict:\")\n",
    "print(Counter(pre))\n",
    "print(\"Thống kê bộ data actual:\")\n",
    "print(Counter(actual))\n",
    "\n",
    "print(f'f1_score: {f1_score(pre, actual)}')\n",
    "print(f'precision_score: {precision_score(pre, actual)}')\n",
    "print(f'recall_score: {recall_score(pre, actual)}')\n",
    "\n",
    "print(\"Confusion Matrix:\")\n",
    "confusion_matrix = metrics.confusion_matrix(actual, pre)\n",
    "cm_display = metrics.ConfusionMatrixDisplay(confusion_matrix = confusion_matrix, display_labels = [False, True])\n",
    "\n",
    "cm_display.plot()\n",
    "plt.show()"
   ]
  },
  {
   "cell_type": "code",
   "execution_count": null,
   "id": "e2abad36",
   "metadata": {},
   "outputs": [],
   "source": []
  }
 ],
 "metadata": {
  "kernelspec": {
   "display_name": "Python 3 (ipykernel)",
   "language": "python",
   "name": "python3"
  },
  "language_info": {
   "codemirror_mode": {
    "name": "ipython",
    "version": 3
   },
   "file_extension": ".py",
   "mimetype": "text/x-python",
   "name": "python",
   "nbconvert_exporter": "python",
   "pygments_lexer": "ipython3",
   "version": "3.9.18"
  }
 },
 "nbformat": 4,
 "nbformat_minor": 5
}
